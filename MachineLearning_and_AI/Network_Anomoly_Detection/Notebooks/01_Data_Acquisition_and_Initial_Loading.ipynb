{
  "nbformat": 4,
  "nbformat_minor": 0,
  "metadata": {
    "colab": {
      "provenance": []
    },
    "kernelspec": {
      "name": "python3",
      "display_name": "Python 3"
    },
    "language_info": {
      "name": "python"
    }
  },
  "cells": [
    {
      "cell_type": "markdown",
      "source": [
        "# Data Acquisition and Intial Loading\n",
        "- Mount google drive\n",
        "- Import pandas\n",
        "- Load data into variable data and mapped columns\n",
        "- Pickle loaded data"
      ],
      "metadata": {
        "id": "B1Uw4xPPjeRH"
      }
    },
    {
      "cell_type": "code",
      "execution_count": 15,
      "metadata": {
        "colab": {
          "base_uri": "https://localhost:8080/"
        },
        "id": "0eg7W_Q4jD3t",
        "outputId": "e1cb6a73-4368-49eb-fc6c-3a15c710343b"
      },
      "outputs": [
        {
          "output_type": "stream",
          "name": "stdout",
          "text": [
            "Drive already mounted at /content/drive; to attempt to forcibly remount, call drive.mount(\"/content/drive\", force_remount=True).\n"
          ]
        }
      ],
      "source": [
        "# Mount Drive, Data is saved on my google drive account\n",
        "from google.colab import drive\n",
        "drive.mount('/content/drive')\n",
        "import pandas as pd\n",
        "import os\n",
        "\n",
        "# Initialize some colors\n",
        "R = \"\\033[91m\"  # Red text\n",
        "W = \"\\033[0m\"   # Reset to default\n",
        "G = \"\\033[92m\"  # Green text"
      ]
    },
    {
      "cell_type": "code",
      "source": [
        "# Initialize Root directory and path to pickle\n",
        "PROJECT_ROOT = '/content/drive/MyDrive/IDS'\n",
        "PATH = os.path.join(PROJECT_ROOT, \"data\")"
      ],
      "metadata": {
        "id": "rlO9yGKslOh9"
      },
      "execution_count": 16,
      "outputs": []
    },
    {
      "cell_type": "code",
      "source": [
        "# Load Data\n",
        "column_names = ['ts',\t'uid', 'src_ip', 'src_p',\t'dst_ip', 'dst_p', 'proto', 'service',\t'duration',\t'src_bytes', 'dst_bytes',\t'conn_state',\t'local_orig',\t'local_resp',\t'missed_bytes',\t'history',\t'orig_pkts',\t'orig_ip_bytes',\t'resp_pkts',\t'resp_ip_bytes',\t'tunnel_parents',\t'ip_proto']\n",
        "data = pd.read_csv('drive/MyDrive/IDS/data/data.tsv', sep='\\t', names=column_names, comment=\"#\", dtype={'ts': 'float64'})\n",
        "if data is not None:\n",
        "  print(f\"{G}Data Loaded Successfully!{W}\")\n",
        "else:\n",
        "  print(f\"{R}Data Loading Failed!{W}\")\n",
        "\n",
        "PICKLE_FILE_PATH = os.path.join(PATH, \"data.pkl\")\n",
        "print(f\"\\nSaving Dataframe to {PICKLE_FILE_PATH}\")\n",
        "data.to_pickle(PICKLE_FILE_PATH)\n",
        "print(\"\\n Pickled Saved!\")"
      ],
      "metadata": {
        "colab": {
          "base_uri": "https://localhost:8080/"
        },
        "id": "UZLbQSi-k6K5",
        "outputId": "0692a615-7b9e-44ab-e958-511a076f9d06"
      },
      "execution_count": 20,
      "outputs": [
        {
          "output_type": "stream",
          "name": "stdout",
          "text": [
            "\u001b[92mData Loaded Successfully!\u001b[0m\n",
            "\n",
            "Savinf Dataframe to /content/drive/MyDrive/IDS/data/data.pkl\n",
            "\n",
            " Pickled Saved!\n"
          ]
        }
      ]
    },
    {
      "cell_type": "code",
      "source": [
        "# Leaving this here for debugging and general reference on how to traverse google drive\n",
        "# ! cd drive; echo \"Directory $(pwd)\"; ls; cd MyDrive; cd IDS; echo \"Directory $(pwd)\" ; ls; cd data; echo \"Directory $(pwd)\" ; ls;\n"
      ],
      "metadata": {
        "colab": {
          "base_uri": "https://localhost:8080/"
        },
        "id": "PuzlTSNClfXx",
        "outputId": "eeb8c42a-3b8c-4484-99fb-a67f44b1c292"
      },
      "execution_count": 14,
      "outputs": [
        {
          "output_type": "stream",
          "name": "stdout",
          "text": [
            "Directory /content/drive\n",
            "MyDrive  Shareddrives\n",
            "Directory /content/drive/MyDrive/IDS\n",
            "data  Exploration  Notebooks  src\n",
            "Directory /content/drive/MyDrive/IDS/data\n",
            "data.tsv\n"
          ]
        }
      ]
    },
    {
      "cell_type": "code",
      "source": [],
      "metadata": {
        "id": "bZVdmFKslg-C"
      },
      "execution_count": null,
      "outputs": []
    }
  ]
}